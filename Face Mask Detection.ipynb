{
 "cells": [
  {
   "cell_type": "code",
   "execution_count": 1,
   "id": "7fcd42cd-0fc2-4dbc-9647-8377aed8b334",
   "metadata": {},
   "outputs": [],
   "source": [
    "import tensorflow as tf\n",
    "from tensorflow.keras.preprocessing.image import ImageDataGenerator\n",
    "from tensorflow.keras.models import Sequential\n",
    "from tensorflow.keras.layers import Conv2D, MaxPooling2D, Flatten, Dense, Dropout\n",
    "from tensorflow.keras import regularizers\n",
    "from tensorflow.keras.callbacks import EarlyStopping\n",
    "import matplotlib.pyplot as plt\n",
    "import pickle\n",
    "import numpy as np\n",
    "from tensorflow.keras.preprocessing import image"
   ]
  },
  {
   "cell_type": "code",
   "execution_count": 2,
   "id": "bfe1d8af-1ab1-4b3f-8115-22a21b1aadb8",
   "metadata": {},
   "outputs": [],
   "source": [
    "train_datagen = ImageDataGenerator(\n",
    "    rescale=1./255,\n",
    "    rotation_range=30,\n",
    "    width_shift_range=0.2,\n",
    "    height_shift_range=0.2,\n",
    "    shear_range=0.2,\n",
    "    zoom_range=0.2,\n",
    "    horizontal_flip=True,\n",
    "    fill_mode='nearest'\n",
    ")"
   ]
  },
  {
   "cell_type": "code",
   "execution_count": 3,
   "id": "cd734599-13c8-487b-b182-df64115199ec",
   "metadata": {},
   "outputs": [
    {
     "name": "stdout",
     "output_type": "stream",
     "text": [
      "Found 8118 images belonging to 2 classes.\n"
     ]
    }
   ],
   "source": [
    "val_test_datagen = ImageDataGenerator(rescale=1./255)\n",
    "\n",
    "train_data = train_datagen.flow_from_directory(\n",
    "    \"Facemaskdetection/train\", target_size=(128, 128), batch_size=32, class_mode=\"binary\"\n",
    ")"
   ]
  },
  {
   "cell_type": "code",
   "execution_count": 4,
   "id": "7e62e041-c261-43ea-9aea-9cdf9ea077d7",
   "metadata": {},
   "outputs": [
    {
     "name": "stdout",
     "output_type": "stream",
     "text": [
      "Found 1822 images belonging to 2 classes.\n",
      "Found 1809 images belonging to 2 classes.\n"
     ]
    }
   ],
   "source": [
    "with open(\"class_labels.pkl\", \"wb\") as f:\n",
    "    pickle.dump(train_data.class_indices, f)\n",
    "\n",
    "val_data = val_test_datagen.flow_from_directory(\n",
    "    \"Facemaskdetection/val\", target_size=(128, 128), batch_size=32, class_mode=\"binary\"\n",
    ")\n",
    "\n",
    "test_data = val_test_datagen.flow_from_directory(\n",
    "    \"Facemaskdetection/test\", target_size=(128, 128), batch_size=32, class_mode=\"binary\"\n",
    ")"
   ]
  },
  {
   "cell_type": "code",
   "execution_count": 5,
   "id": "6a2cd90a-ec20-4a6e-b7ef-335aa340b22e",
   "metadata": {},
   "outputs": [
    {
     "name": "stderr",
     "output_type": "stream",
     "text": [
      "C:\\Users\\Soniya Yadav\\AppData\\Local\\Programs\\Python\\Python310\\lib\\site-packages\\keras\\src\\layers\\convolutional\\base_conv.py:107: UserWarning: Do not pass an `input_shape`/`input_dim` argument to a layer. When using Sequential models, prefer using an `Input(shape)` object as the first layer in the model instead.\n",
      "  super().__init__(activity_regularizer=activity_regularizer, **kwargs)\n"
     ]
    }
   ],
   "source": [
    "model = Sequential([\n",
    "    Conv2D(32, (3,3), activation='relu', input_shape=(128,128,3)),\n",
    "    MaxPooling2D(2,2),\n",
    "\n",
    "    Conv2D(64, (3,3), activation='relu'),\n",
    "    MaxPooling2D(2,2),\n",
    "\n",
    "    Conv2D(128, (3,3), activation='relu'),\n",
    "    MaxPooling2D(2,2),\n",
    "\n",
    "    Flatten(),\n",
    "\n",
    "    Dense(128, activation='relu', kernel_regularizer=regularizers.l2(0.001)),\n",
    "    Dropout(0.5),\n",
    "\n",
    "    Dense(64, activation='relu', kernel_regularizer=regularizers.l2(0.001)),\n",
    "    Dropout(0.5),\n",
    "\n",
    "    Dense(1, activation='sigmoid')\n",
    "])\n",
    "\n",
    "model.compile(optimizer='adam', loss='binary_crossentropy', metrics=['accuracy'])\n"
   ]
  },
  {
   "cell_type": "code",
   "execution_count": 6,
   "id": "cdead614-a700-496f-9d5d-91b0673e4656",
   "metadata": {},
   "outputs": [],
   "source": [
    "early_stop = EarlyStopping(monitor='val_loss', patience=5, restore_best_weights=True)"
   ]
  },
  {
   "cell_type": "code",
   "execution_count": 7,
   "id": "0d2846d0-e144-4b39-802b-bd37293ac0fc",
   "metadata": {},
   "outputs": [
    {
     "name": "stderr",
     "output_type": "stream",
     "text": [
      "C:\\Users\\Soniya Yadav\\AppData\\Local\\Programs\\Python\\Python310\\lib\\site-packages\\keras\\src\\trainers\\data_adapters\\py_dataset_adapter.py:121: UserWarning: Your `PyDataset` class should call `super().__init__(**kwargs)` in its constructor. `**kwargs` can include `workers`, `use_multiprocessing`, `max_queue_size`. Do not pass these arguments to `fit()`, as they will be ignored.\n",
      "  self._warn_if_super_not_called()\n"
     ]
    },
    {
     "name": "stdout",
     "output_type": "stream",
     "text": [
      "Epoch 1/30\n",
      "\u001b[1m231/254\u001b[0m \u001b[32m━━━━━━━━━━━━━━━━━━\u001b[0m\u001b[37m━━\u001b[0m \u001b[1m18s\u001b[0m 804ms/step - accuracy: 0.7310 - loss: 0.6934"
     ]
    },
    {
     "name": "stderr",
     "output_type": "stream",
     "text": [
      "C:\\Users\\Soniya Yadav\\AppData\\Local\\Programs\\Python\\Python310\\lib\\site-packages\\PIL\\Image.py:1056: UserWarning: Palette images with Transparency expressed in bytes should be converted to RGBA images\n",
      "  warnings.warn(\n"
     ]
    },
    {
     "name": "stdout",
     "output_type": "stream",
     "text": [
      "\u001b[1m254/254\u001b[0m \u001b[32m━━━━━━━━━━━━━━━━━━━━\u001b[0m\u001b[37m\u001b[0m \u001b[1m0s\u001b[0m 803ms/step - accuracy: 0.7375 - loss: 0.6807"
     ]
    },
    {
     "name": "stderr",
     "output_type": "stream",
     "text": [
      "C:\\Users\\Soniya Yadav\\AppData\\Local\\Programs\\Python\\Python310\\lib\\site-packages\\keras\\src\\trainers\\data_adapters\\py_dataset_adapter.py:121: UserWarning: Your `PyDataset` class should call `super().__init__(**kwargs)` in its constructor. `**kwargs` can include `workers`, `use_multiprocessing`, `max_queue_size`. Do not pass these arguments to `fit()`, as they will be ignored.\n",
      "  self._warn_if_super_not_called()\n"
     ]
    },
    {
     "name": "stdout",
     "output_type": "stream",
     "text": [
      "\u001b[1m254/254\u001b[0m \u001b[32m━━━━━━━━━━━━━━━━━━━━\u001b[0m\u001b[37m\u001b[0m \u001b[1m237s\u001b[0m 916ms/step - accuracy: 0.7378 - loss: 0.6801 - val_accuracy: 0.8985 - val_loss: 0.3857\n",
      "Epoch 2/30\n",
      "\u001b[1m254/254\u001b[0m \u001b[32m━━━━━━━━━━━━━━━━━━━━\u001b[0m\u001b[37m\u001b[0m \u001b[1m140s\u001b[0m 551ms/step - accuracy: 0.8535 - loss: 0.4382 - val_accuracy: 0.9358 - val_loss: 0.2290\n",
      "Epoch 3/30\n",
      "\u001b[1m254/254\u001b[0m \u001b[32m━━━━━━━━━━━━━━━━━━━━\u001b[0m\u001b[37m\u001b[0m \u001b[1m138s\u001b[0m 544ms/step - accuracy: 0.8740 - loss: 0.3925 - val_accuracy: 0.9490 - val_loss: 0.2053\n",
      "Epoch 4/30\n",
      "\u001b[1m254/254\u001b[0m \u001b[32m━━━━━━━━━━━━━━━━━━━━\u001b[0m\u001b[37m\u001b[0m \u001b[1m140s\u001b[0m 551ms/step - accuracy: 0.8739 - loss: 0.3708 - val_accuracy: 0.9479 - val_loss: 0.1999\n",
      "Epoch 5/30\n",
      "\u001b[1m254/254\u001b[0m \u001b[32m━━━━━━━━━━━━━━━━━━━━\u001b[0m\u001b[37m\u001b[0m \u001b[1m136s\u001b[0m 534ms/step - accuracy: 0.8827 - loss: 0.3424 - val_accuracy: 0.9462 - val_loss: 0.2193\n",
      "Epoch 6/30\n",
      "\u001b[1m254/254\u001b[0m \u001b[32m━━━━━━━━━━━━━━━━━━━━\u001b[0m\u001b[37m\u001b[0m \u001b[1m134s\u001b[0m 526ms/step - accuracy: 0.8907 - loss: 0.3341 - val_accuracy: 0.9693 - val_loss: 0.1708\n",
      "Epoch 7/30\n",
      "\u001b[1m254/254\u001b[0m \u001b[32m━━━━━━━━━━━━━━━━━━━━\u001b[0m\u001b[37m\u001b[0m \u001b[1m135s\u001b[0m 529ms/step - accuracy: 0.8974 - loss: 0.3194 - val_accuracy: 0.9643 - val_loss: 0.1665\n",
      "Epoch 8/30\n",
      "\u001b[1m254/254\u001b[0m \u001b[32m━━━━━━━━━━━━━━━━━━━━\u001b[0m\u001b[37m\u001b[0m \u001b[1m137s\u001b[0m 540ms/step - accuracy: 0.9033 - loss: 0.2919 - val_accuracy: 0.9676 - val_loss: 0.1559\n",
      "Epoch 9/30\n",
      "\u001b[1m254/254\u001b[0m \u001b[32m━━━━━━━━━━━━━━━━━━━━\u001b[0m\u001b[37m\u001b[0m \u001b[1m142s\u001b[0m 560ms/step - accuracy: 0.9067 - loss: 0.2945 - val_accuracy: 0.9698 - val_loss: 0.1443\n",
      "Epoch 10/30\n",
      "\u001b[1m254/254\u001b[0m \u001b[32m━━━━━━━━━━━━━━━━━━━━\u001b[0m\u001b[37m\u001b[0m \u001b[1m143s\u001b[0m 562ms/step - accuracy: 0.9170 - loss: 0.2824 - val_accuracy: 0.9715 - val_loss: 0.1516\n",
      "Epoch 11/30\n",
      "\u001b[1m254/254\u001b[0m \u001b[32m━━━━━━━━━━━━━━━━━━━━\u001b[0m\u001b[37m\u001b[0m \u001b[1m143s\u001b[0m 562ms/step - accuracy: 0.9212 - loss: 0.2678 - val_accuracy: 0.9857 - val_loss: 0.1234\n",
      "Epoch 12/30\n",
      "\u001b[1m254/254\u001b[0m \u001b[32m━━━━━━━━━━━━━━━━━━━━\u001b[0m\u001b[37m\u001b[0m \u001b[1m143s\u001b[0m 562ms/step - accuracy: 0.9248 - loss: 0.2584 - val_accuracy: 0.9726 - val_loss: 0.1351\n",
      "Epoch 13/30\n",
      "\u001b[1m254/254\u001b[0m \u001b[32m━━━━━━━━━━━━━━━━━━━━\u001b[0m\u001b[37m\u001b[0m \u001b[1m129s\u001b[0m 508ms/step - accuracy: 0.9283 - loss: 0.2489 - val_accuracy: 0.9748 - val_loss: 0.1443\n",
      "Epoch 14/30\n",
      "\u001b[1m254/254\u001b[0m \u001b[32m━━━━━━━━━━━━━━━━━━━━\u001b[0m\u001b[37m\u001b[0m \u001b[1m135s\u001b[0m 532ms/step - accuracy: 0.9250 - loss: 0.2557 - val_accuracy: 0.9764 - val_loss: 0.1178\n",
      "Epoch 15/30\n",
      "\u001b[1m254/254\u001b[0m \u001b[32m━━━━━━━━━━━━━━━━━━━━\u001b[0m\u001b[37m\u001b[0m \u001b[1m136s\u001b[0m 537ms/step - accuracy: 0.9351 - loss: 0.2394 - val_accuracy: 0.9742 - val_loss: 0.1234\n",
      "Epoch 16/30\n",
      "\u001b[1m254/254\u001b[0m \u001b[32m━━━━━━━━━━━━━━━━━━━━\u001b[0m\u001b[37m\u001b[0m \u001b[1m143s\u001b[0m 560ms/step - accuracy: 0.9368 - loss: 0.2304 - val_accuracy: 0.9709 - val_loss: 0.1424\n",
      "Epoch 17/30\n",
      "\u001b[1m254/254\u001b[0m \u001b[32m━━━━━━━━━━━━━━━━━━━━\u001b[0m\u001b[37m\u001b[0m \u001b[1m143s\u001b[0m 563ms/step - accuracy: 0.9338 - loss: 0.2361 - val_accuracy: 0.9830 - val_loss: 0.1169\n",
      "Epoch 18/30\n",
      "\u001b[1m254/254\u001b[0m \u001b[32m━━━━━━━━━━━━━━━━━━━━\u001b[0m\u001b[37m\u001b[0m \u001b[1m150s\u001b[0m 591ms/step - accuracy: 0.9369 - loss: 0.2349 - val_accuracy: 0.9951 - val_loss: 0.0913\n",
      "Epoch 19/30\n",
      "\u001b[1m254/254\u001b[0m \u001b[32m━━━━━━━━━━━━━━━━━━━━\u001b[0m\u001b[37m\u001b[0m \u001b[1m148s\u001b[0m 581ms/step - accuracy: 0.9356 - loss: 0.2275 - val_accuracy: 0.9868 - val_loss: 0.1034\n",
      "Epoch 20/30\n",
      "\u001b[1m254/254\u001b[0m \u001b[32m━━━━━━━━━━━━━━━━━━━━\u001b[0m\u001b[37m\u001b[0m \u001b[1m151s\u001b[0m 592ms/step - accuracy: 0.9484 - loss: 0.2074 - val_accuracy: 0.9885 - val_loss: 0.1038\n",
      "Epoch 21/30\n",
      "\u001b[1m254/254\u001b[0m \u001b[32m━━━━━━━━━━━━━━━━━━━━\u001b[0m\u001b[37m\u001b[0m \u001b[1m150s\u001b[0m 591ms/step - accuracy: 0.9458 - loss: 0.2140 - val_accuracy: 0.9863 - val_loss: 0.1081\n",
      "Epoch 22/30\n",
      "\u001b[1m254/254\u001b[0m \u001b[32m━━━━━━━━━━━━━━━━━━━━\u001b[0m\u001b[37m\u001b[0m \u001b[1m150s\u001b[0m 588ms/step - accuracy: 0.9425 - loss: 0.2212 - val_accuracy: 0.9802 - val_loss: 0.1138\n",
      "Epoch 23/30\n",
      "\u001b[1m254/254\u001b[0m \u001b[32m━━━━━━━━━━━━━━━━━━━━\u001b[0m\u001b[37m\u001b[0m \u001b[1m151s\u001b[0m 594ms/step - accuracy: 0.9508 - loss: 0.2168 - val_accuracy: 0.9802 - val_loss: 0.1223\n"
     ]
    }
   ],
   "source": [
    "history = model.fit(\n",
    "    train_data,\n",
    "    validation_data=val_data,\n",
    "    epochs=30,\n",
    "    callbacks=[early_stop]\n",
    ")"
   ]
  },
  {
   "cell_type": "code",
   "execution_count": 8,
   "id": "d4936fc6-4298-4c83-9583-3da19750e45c",
   "metadata": {},
   "outputs": [
    {
     "name": "stdout",
     "output_type": "stream",
     "text": [
      "\u001b[1m57/57\u001b[0m \u001b[32m━━━━━━━━━━━━━━━━━━━━\u001b[0m\u001b[37m\u001b[0m \u001b[1m31s\u001b[0m 548ms/step - accuracy: 0.9740 - loss: 0.1434\n",
      "✅ Test Accuracy: 97.57 %\n"
     ]
    }
   ],
   "source": [
    "test_loss, test_acc = model.evaluate(test_data)\n",
    "print(\"✅ Test Accuracy:\", round(test_acc*100, 2), \"%\")"
   ]
  },
  {
   "cell_type": "code",
   "execution_count": 9,
   "id": "e9aaf503-a93a-44c4-83a3-3a7614a514cd",
   "metadata": {},
   "outputs": [
    {
     "data": {
      "text/plain": [
       "<Figure size 1200x500 with 0 Axes>"
      ]
     },
     "execution_count": 9,
     "metadata": {},
     "output_type": "execute_result"
    },
    {
     "data": {
      "text/plain": [
       "<Figure size 1200x500 with 0 Axes>"
      ]
     },
     "metadata": {},
     "output_type": "display_data"
    }
   ],
   "source": [
    "plt.figure(figsize=(12,5))"
   ]
  },
  {
   "cell_type": "code",
   "execution_count": 11,
   "id": "8ae09716-3d67-4a62-85f2-1d4118d0f4bc",
   "metadata": {},
   "outputs": [
    {
     "data": {
      "image/png": "[encoded data removed]",
      "text/plain": [
       "<Figure size 640x480 with 2 Axes>"
      ]
     },
     "metadata": {},
     "output_type": "display_data"
    }
   ],
   "source": [
    "plt.subplot(1,2,1)\n",
    "plt.plot(history.history['accuracy'], label='Train Accuracy')\n",
    "plt.plot(history.history['val_accuracy'], label='Val Accuracy')\n",
    "plt.xlabel('Epochs')\n",
    "plt.ylabel('Accuracy')\n",
    "plt.title('Training vs Validation Accuracy')\n",
    "plt.legend()\n",
    "\n",
    "# Loss\n",
    "plt.subplot(1,2,2)\n",
    "plt.plot(history.history['loss'], label='Train Loss')\n",
    "plt.plot(history.history['val_loss'], label='Val Loss')\n",
    "plt.xlabel('Epochs')\n",
    "plt.ylabel('Loss')\n",
    "plt.title('Training vs Validation Loss')\n",
    "plt.legend()\n",
    "\n",
    "plt.show()"
   ]
  },
  {
   "cell_type": "code",
   "execution_count": 12,
   "id": "08fd9181-ea66-4621-8287-d1e706939ad8",
   "metadata": {},
   "outputs": [],
   "source": [
    "with open(\"class_labels.pkl\", \"rb\") as f:\n",
    "    class_labels = pickle.load(f)"
   ]
  },
  {
   "cell_type": "code",
   "execution_count": 13,
   "id": "c9dd3ccc-1076-491e-af47-b8a685fdd981",
   "metadata": {},
   "outputs": [],
   "source": [
    "class_labels = {v:k for k,v in class_labels.items()}"
   ]
  },
  {
   "cell_type": "code",
   "execution_count": 14,
   "id": "9a05c29b-3771-4153-b727-61670085a025",
   "metadata": {},
   "outputs": [],
   "source": [
    "def predict_mask(img_path):\n",
    "    \"\"\"\n",
    "    Predicts whether the person in the image is wearing a mask or not.\n",
    "    \n",
    "    Args:\n",
    "        img_path (str): Path to the image file.\n",
    "    \n",
    "    Returns:\n",
    "        str: Predicted class name ('with_mask' or 'without_mask').\n",
    "    \"\"\"\n",
    "    # Load and preprocess the image\n",
    "    img = image.load_img(img_path, target_size=(128, 128))\n",
    "    img_array = image.img_to_array(img) / 255.0\n",
    "    img_array = np.expand_dims(img_array, axis=0)  # Add batch dimension\n",
    "\n",
    "    # Predict\n",
    "    prediction = model.predict(img_array)\n",
    "    predicted_class_index = int(np.round(prediction[0][0]))  # Round sigmoid output to 0 or 1\n",
    "    predicted_class_name = class_labels[predicted_class_index]\n",
    "\n",
    "    print(f\"✅ Predicted Class for '{img_path}': {predicted_class_name}\")\n",
    "    return predicted_class_name"
   ]
  },
  {
   "cell_type": "code",
   "execution_count": 18,
   "id": "a1bea8c2-5918-4048-8a13-9396c918e2aa",
   "metadata": {},
   "outputs": [
    {
     "name": "stdout",
     "output_type": "stream",
     "text": [
      "\u001b[1m1/1\u001b[0m \u001b[32m━━━━━━━━━━━━━━━━━━━━\u001b[0m\u001b[37m\u001b[0m \u001b[1m0s\u001b[0m 41ms/step\n",
      "✅ Predicted Class for 'Facemaskdetection/test/with_mask/augmented_4_8840099.png': With_mask\n"
     ]
    },
    {
     "data": {
      "text/plain": [
       "'With_mask'"
      ]
     },
     "execution_count": 18,
     "metadata": {},
     "output_type": "execute_result"
    }
   ],
   "source": [
    "predict_mask(\"Facemaskdetection/test/with_mask/augmented_4_8840099.png\")"
   ]
  },
  {
   "cell_type": "code",
   "execution_count": null,
   "id": "384ae648-47a2-4843-9912-4bbf49c79028",
   "metadata": {},
   "outputs": [],
   "source": []
  }
 ],
 "metadata": {
  "kernelspec": {
   "display_name": "Python 3 (ipykernel)",
   "language": "python",
   "name": "python3"
  },
  "language_info": {
   "codemirror_mode": {
    "name": "ipython",
    "version": 3
   },
   "file_extension": ".py",
   "mimetype": "text/x-python",
   "name": "python",
   "nbconvert_exporter": "python",
   "pygments_lexer": "ipython3",
   "version": "3.10.5"
  }
 },
 "nbformat": 4,
 "nbformat_minor": 5
}
